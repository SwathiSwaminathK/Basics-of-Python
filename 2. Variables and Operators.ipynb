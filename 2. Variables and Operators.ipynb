{
 "cells": [
  {
   "cell_type": "markdown",
   "metadata": {},
   "source": [
    "### What are variables?\n",
    "\n",
    "Data that we need to store and manipulate in our programmes is referred to as variables. Consider the case when you need to store a user's age in your software. In order to achieve that, we can use the following line to define the variable userAge and name this data userAge. "
   ]
  },
  {
   "cell_type": "code",
   "execution_count": null,
   "metadata": {},
   "outputs": [],
   "source": [
    "userAge = 0"
   ]
  },
  {
   "cell_type": "markdown",
   "metadata": {},
   "source": [
    "After you provide the userAge variable, your programme will designate a certain portion of your computer's storage space to store this information. Then, by using the name userAge, you may access and modify this data. A new variable must have an initial value each time it is declared."
   ]
  },
  {
   "cell_type": "markdown",
   "metadata": {},
   "source": [
    "In this example, we assigned it a value 0. Later on, we can always alter this value in our programme."
   ]
  },
  {
   "cell_type": "markdown",
   "metadata": {},
   "source": [
    "Multiple variables can be defined at once. To do that simply write"
   ]
  },
  {
   "cell_type": "code",
   "execution_count": null,
   "metadata": {},
   "outputs": [],
   "source": [
    "userAge, userName = 30, 'Peter'"
   ]
  },
  {
   "cell_type": "markdown",
   "metadata": {},
   "source": [
    "This is equivalent to "
   ]
  },
  {
   "cell_type": "code",
   "execution_count": null,
   "metadata": {},
   "outputs": [],
   "source": [
    "userAge = 30\n",
    "userName = 'Peter'"
   ]
  },
  {
   "cell_type": "markdown",
   "metadata": {},
   "source": [
    "### Naming a Variable\n",
    "\n",
    "Python only allows letters (a-z, A-B), integers, or underscores (_) as variable names. However, a number cannot be the first character. So, instead of 2userName, you may name your variables userName, user_name, or userName2.\n",
    "\n",
    "Additionally, because they have predetermined meanings in Python, many reserved terms cannot be used as variable names. These terms include phrases like \"print,\" \"input,\" \"if,\" \"while,\" and others. Each of these will be covered in later chapters. Variable names also differ depending on the case. username and userName are not the same.\n",
    "\n",
    "When naming a variable in Python, there are two standards to follow. Either camel case notation or underscores are options. Writing complex words in mixed case is known as the camel case (for example, thisIsAVariableName). Another standard method is to separate the words using underscores ( ). You may name your variables like this : this is a variable name."
   ]
  },
  {
   "cell_type": "code",
   "execution_count": null,
   "metadata": {},
   "outputs": [],
   "source": [
    "# Example\n",
    "\n",
    "userName = 1 \n",
    "user_name = 2\n",
    "userName2 = 3"
   ]
  },
  {
   "cell_type": "markdown",
   "metadata": {},
   "source": [
    "### The Assignment Sign\n",
    "\n",
    "In contrast to the = sign we learnt in math, the = sign in the statement userAge = 0 has a different meaning. The = symbol is referred to as an assignment sign in programming. It denotes that we are giving the variable on the left the value shown to the right of the equals sign.\n",
    "\n",
    "In programming, the expressions x = y and y = x have quite distinct meanings.\n",
    "\n",
    "Type the following code into your IDLE editor and save it."
   ]
  },
  {
   "cell_type": "code",
   "execution_count": null,
   "metadata": {},
   "outputs": [],
   "source": [
    "x = 5\n",
    "y = 10\n",
    "x = y\n",
    "print (\"x = \", x)\n",
    "print (\"y = \", y)"
   ]
  },
  {
   "cell_type": "markdown",
   "metadata": {},
   "source": [
    "Now run the program. You should get this output:"
   ]
  },
  {
   "cell_type": "code",
   "execution_count": null,
   "metadata": {},
   "outputs": [],
   "source": [
    "x = 10\n",
    "y = 10"
   ]
  },
  {
   "cell_type": "markdown",
   "metadata": {},
   "source": [
    "Although x has an initial value of 5 (declared on the first line), the third line x = y assigns the value of y to x, hence changing the value of x to 10 while the value of y remains unchanged. Next, modify the program by changing ONLY ONE statement: Change the third line from x = y to y = x. Mathematically, x = y and y = x mean the same thing. However, this is not so in programming.\n",
    "\n",
    "Run the second program. You will now get"
   ]
  },
  {
   "cell_type": "code",
   "execution_count": null,
   "metadata": {},
   "outputs": [],
   "source": [
    "x = 5\n",
    "y = 5"
   ]
  },
  {
   "cell_type": "markdown",
   "metadata": {},
   "source": [
    "You can see that in this example, the x value remains as 5, but the value of y is changed to 5. This is because the statement y = x assigns the value of x to y. y becomes 5 while x remains unchanged as 5."
   ]
  },
  {
   "cell_type": "markdown",
   "metadata": {},
   "source": [
    "### Basic Operators\n",
    "\n",
    "We can manipulate variables in the same way as other types of mathematical objects, in addition to giving them a starting value. Python's basic operators are +, -, /,%, and *, which stand for addition, subtraction, multiplication, division, floor division, modulus, and exponent, respectively.\n",
    "\n",
    "Example:\n",
    "\n",
    "Suppose: x = 5, y = 2\n",
    "\n",
    "Addition: x + y = 7\n",
    "\n",
    "Subtraction: x - y = 3\n",
    "\n",
    "Multiplication: x*y = 10\n",
    "\n",
    "Division: x/y = 2.5\n",
    "\n",
    "Floor Division: x//y = 2 (rounds down the answer to the nearest whole number)\n",
    "\n",
    "Modulus: x%y = 1 (gives the remainder when 5 is divided by 2)\n",
    "\n",
    "Exponent:  x ** y = 25 (5 to the power of 2)\n"
   ]
  }
 ],
 "metadata": {
  "kernelspec": {
   "display_name": "Python 3",
   "language": "python",
   "name": "python3"
  },
  "language_info": {
   "codemirror_mode": {
    "name": "ipython",
    "version": 3
   },
   "file_extension": ".py",
   "mimetype": "text/x-python",
   "name": "python",
   "nbconvert_exporter": "python",
   "pygments_lexer": "ipython3",
   "version": "3.8.5"
  }
 },
 "nbformat": 4,
 "nbformat_minor": 4
}
