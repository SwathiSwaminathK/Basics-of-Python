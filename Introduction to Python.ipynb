{
 "cells": [
  {
   "cell_type": "markdown",
   "metadata": {},
   "source": [
    "## Introduction to Python\n",
    "\n",
    "Python is a powerful and easy-to-learn Object-Oriented Programming language. It is a high-level programming language.\n",
    "\n",
    "### Why Python?\n",
    "\n",
    "* Easy to Use: When compared to other programming languages, Python is considerably simpler to use.\n",
    "\n",
    "\n",
    "* Expressive Language: Python's syntax resembles pseudocode writing more closely. This means that it can represent the goal of the code more effectively than many other languages.\n",
    "\n",
    "\n",
    "* Interpreted Language: Python is an interpreted language, which means that it understands and runs the code one line at a time in the Python installation.\n",
    "\n",
    "\n",
    "* Python is one of the most widely used programming languages for web development since it has a wide range of web development platforms built on top of it, including Django, Flask, and others.\n",
    "\n",
    "\n",
    "* Python is cross-platform compatible (Windows, Mac, Linux, Raspberry Pi, etc).\n",
    "\n",
    "\n",
    "* The syntax of Python is straightforward and resembles that of English language.\n",
    "\n",
    "\n",
    "* Unlike several other programming languages, Python's syntax enables programmers to construct programmes with fewer lines.\n",
    "\n",
    "\n",
    "* Python operates on an interpreter system, allowing code to be executed immediately after it has been written. As a result, prototyping may proceed quickly.\n",
    "\n",
    "\n",
    "* Python can be used in procedural, object-oriented, or functional programming environments.\n",
    "\n",
    "\n",
    "### Python Syntax compared to other programming languages\n",
    "\n",
    "* With influences from mathematics and a focus on readability, Python has several characteristics with the English language.\n",
    "\n",
    "\n",
    "* Python wraps up a command with a new line, as contrast to other programming languages that frequently utilise semicolons or parentheses.\n",
    "\n",
    "\n",
    "* Python uses whitespace and indentation to define scope, including the scope of loops, functions, and classes. Curly brackets are frequently used for this purpose in other computer languages.\n",
    "\n",
    "\n",
    "### Python Comments\n",
    "\n",
    "1. Python code can be explained using comments.\n",
    "\n",
    "\n",
    "2. Comments can be used to improve the readability of the code.\n",
    "\n",
    "\n",
    "3. Comments will not be executed while testing the code.\n",
    "\n",
    "### Creating a Comment\n",
    "\n",
    "Comments start with a '#', and Python will ignore them."
   ]
  },
  {
   "cell_type": "code",
   "execution_count": null,
   "metadata": {},
   "outputs": [],
   "source": [
    "# Code to print Hello world\n",
    "print(\"Hello, World!!!\")"
   ]
  },
  {
   "cell_type": "markdown",
   "metadata": {},
   "source": [
    "### Multi-Line Comments\n",
    "\n",
    "We can achieve multi-line comments by using single triple quotes or by double triple quotes.\n",
    "\n",
    "**Example:**"
   ]
  },
  {
   "cell_type": "code",
   "execution_count": null,
   "metadata": {},
   "outputs": [],
   "source": [
    "'''\n",
    "Another way to write\n",
    "comments in \n",
    "more than one line.\n",
    "\n",
    "'''"
   ]
  },
  {
   "cell_type": "markdown",
   "metadata": {},
   "source": [
    "                                                    OR"
   ]
  },
  {
   "cell_type": "code",
   "execution_count": null,
   "metadata": {},
   "outputs": [],
   "source": [
    "\"\"\"\n",
    "Another way to write\n",
    "comments in \n",
    "more than one line.\n",
    "\n",
    "\"\"\""
   ]
  }
 ],
 "metadata": {
  "kernelspec": {
   "display_name": "Python 3",
   "language": "python",
   "name": "python3"
  },
  "language_info": {
   "codemirror_mode": {
    "name": "ipython",
    "version": 3
   },
   "file_extension": ".py",
   "mimetype": "text/x-python",
   "name": "python",
   "nbconvert_exporter": "python",
   "pygments_lexer": "ipython3",
   "version": "3.8.5"
  }
 },
 "nbformat": 4,
 "nbformat_minor": 4
}
